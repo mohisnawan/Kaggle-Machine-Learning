{
  "cells": [
    {
      "metadata": {
        "_uuid": "b6269c0e8f417f82daf093dda8fa0da6d2c57d86",
        "_cell_guid": "e81ee64d-e474-4662-9036-ce23df615199"
      },
      "cell_type": "markdown",
      "source": "# Introduction\n**This will be your workspace for Kaggle's Machine Learning education track.**\n\nYou will build and continually improve a model to predict housing prices as you work through each tutorial.  Fork this notebook and write your code in it.\n\nThe data from the tutorial, the Melbourne data, is not available in this workspace.  You will need to translate the concepts to work with the data in this notebook, the Iowa data.\n\nCome to the [Learn Discussion](https://www.kaggle.com/learn-forum) forum for any questions or comments. \n\n# Write Your Code Below\n\n"
    },
    {
      "metadata": {
        "_uuid": "1c728098629e1301643443b1341556a15c089b2b",
        "_cell_guid": "86b26423-563a-4fa1-a595-89e25ff93089",
        "trusted": true
      },
      "cell_type": "code",
      "source": "import pandas as pd\n\nmain_file_path = '../input/train.csv'\ndata = pd.read_csv(main_file_path)\nprint('hello world')",
      "execution_count": 1,
      "outputs": [
        {
          "output_type": "stream",
          "text": "hello world\n",
          "name": "stdout"
        }
      ]
    },
    {
      "metadata": {
        "_uuid": "72876047c1e4a0e158257de00ec8287eaee1d904",
        "_cell_guid": "ec45fa91-4a1b-4f25-bf9d-d83ac023d5a0",
        "trusted": true
      },
      "cell_type": "code",
      "source": "print(data.describe())",
      "execution_count": 2,
      "outputs": [
        {
          "output_type": "stream",
          "text": "                Id   MSSubClass  LotFrontage        LotArea  OverallQual  \\\ncount  1460.000000  1460.000000  1201.000000    1460.000000  1460.000000   \nmean    730.500000    56.897260    70.049958   10516.828082     6.099315   \nstd     421.610009    42.300571    24.284752    9981.264932     1.382997   \nmin       1.000000    20.000000    21.000000    1300.000000     1.000000   \n25%     365.750000    20.000000    59.000000    7553.500000     5.000000   \n50%     730.500000    50.000000    69.000000    9478.500000     6.000000   \n75%    1095.250000    70.000000    80.000000   11601.500000     7.000000   \nmax    1460.000000   190.000000   313.000000  215245.000000    10.000000   \n\n       OverallCond    YearBuilt  YearRemodAdd   MasVnrArea   BsmtFinSF1  \\\ncount  1460.000000  1460.000000   1460.000000  1452.000000  1460.000000   \nmean      5.575342  1971.267808   1984.865753   103.685262   443.639726   \nstd       1.112799    30.202904     20.645407   181.066207   456.098091   \nmin       1.000000  1872.000000   1950.000000     0.000000     0.000000   \n25%       5.000000  1954.000000   1967.000000     0.000000     0.000000   \n50%       5.000000  1973.000000   1994.000000     0.000000   383.500000   \n75%       6.000000  2000.000000   2004.000000   166.000000   712.250000   \nmax       9.000000  2010.000000   2010.000000  1600.000000  5644.000000   \n\n           ...         WoodDeckSF  OpenPorchSF  EnclosedPorch    3SsnPorch  \\\ncount      ...        1460.000000  1460.000000    1460.000000  1460.000000   \nmean       ...          94.244521    46.660274      21.954110     3.409589   \nstd        ...         125.338794    66.256028      61.119149    29.317331   \nmin        ...           0.000000     0.000000       0.000000     0.000000   \n25%        ...           0.000000     0.000000       0.000000     0.000000   \n50%        ...           0.000000    25.000000       0.000000     0.000000   \n75%        ...         168.000000    68.000000       0.000000     0.000000   \nmax        ...         857.000000   547.000000     552.000000   508.000000   \n\n       ScreenPorch     PoolArea       MiscVal       MoSold       YrSold  \\\ncount  1460.000000  1460.000000   1460.000000  1460.000000  1460.000000   \nmean     15.060959     2.758904     43.489041     6.321918  2007.815753   \nstd      55.757415    40.177307    496.123024     2.703626     1.328095   \nmin       0.000000     0.000000      0.000000     1.000000  2006.000000   \n25%       0.000000     0.000000      0.000000     5.000000  2007.000000   \n50%       0.000000     0.000000      0.000000     6.000000  2008.000000   \n75%       0.000000     0.000000      0.000000     8.000000  2009.000000   \nmax     480.000000   738.000000  15500.000000    12.000000  2010.000000   \n\n           SalePrice  \ncount    1460.000000  \nmean   180921.195890  \nstd     79442.502883  \nmin     34900.000000  \n25%    129975.000000  \n50%    163000.000000  \n75%    214000.000000  \nmax    755000.000000  \n\n[8 rows x 38 columns]\n",
          "name": "stdout"
        }
      ]
    },
    {
      "metadata": {
        "_uuid": "f2332c58d43d09809daf654f307d074ce4c38358",
        "_cell_guid": "a0e9ce46-1679-4da3-a335-c5b6dca19846",
        "trusted": true
      },
      "cell_type": "code",
      "source": "print(data.columns)",
      "execution_count": 3,
      "outputs": [
        {
          "output_type": "stream",
          "text": "Index(['Id', 'MSSubClass', 'MSZoning', 'LotFrontage', 'LotArea', 'Street',\n       'Alley', 'LotShape', 'LandContour', 'Utilities', 'LotConfig',\n       'LandSlope', 'Neighborhood', 'Condition1', 'Condition2', 'BldgType',\n       'HouseStyle', 'OverallQual', 'OverallCond', 'YearBuilt', 'YearRemodAdd',\n       'RoofStyle', 'RoofMatl', 'Exterior1st', 'Exterior2nd', 'MasVnrType',\n       'MasVnrArea', 'ExterQual', 'ExterCond', 'Foundation', 'BsmtQual',\n       'BsmtCond', 'BsmtExposure', 'BsmtFinType1', 'BsmtFinSF1',\n       'BsmtFinType2', 'BsmtFinSF2', 'BsmtUnfSF', 'TotalBsmtSF', 'Heating',\n       'HeatingQC', 'CentralAir', 'Electrical', '1stFlrSF', '2ndFlrSF',\n       'LowQualFinSF', 'GrLivArea', 'BsmtFullBath', 'BsmtHalfBath', 'FullBath',\n       'HalfBath', 'BedroomAbvGr', 'KitchenAbvGr', 'KitchenQual',\n       'TotRmsAbvGrd', 'Functional', 'Fireplaces', 'FireplaceQu', 'GarageType',\n       'GarageYrBlt', 'GarageFinish', 'GarageCars', 'GarageArea', 'GarageQual',\n       'GarageCond', 'PavedDrive', 'WoodDeckSF', 'OpenPorchSF',\n       'EnclosedPorch', '3SsnPorch', 'ScreenPorch', 'PoolArea', 'PoolQC',\n       'Fence', 'MiscFeature', 'MiscVal', 'MoSold', 'YrSold', 'SaleType',\n       'SaleCondition', 'SalePrice'],\n      dtype='object')\n",
          "name": "stdout"
        }
      ]
    },
    {
      "metadata": {
        "_uuid": "7804ec81bd8d728c7076bb89453702aba04631a7",
        "_cell_guid": "79bc66c4-960f-4d1e-8082-12b781190b26",
        "trusted": true
      },
      "cell_type": "code",
      "source": "data.SalePrice.head()",
      "execution_count": 4,
      "outputs": [
        {
          "output_type": "execute_result",
          "execution_count": 4,
          "data": {
            "text/plain": "0    208500\n1    181500\n2    223500\n3    140000\n4    250000\nName: SalePrice, dtype: int64"
          },
          "metadata": {}
        }
      ]
    },
    {
      "metadata": {
        "_uuid": "fe08d85ec89e3d656f0bedb3f677617ad1901cc3",
        "collapsed": true,
        "_cell_guid": "d7760a59-3c3f-482f-8056-611c7b29d100",
        "trusted": true
      },
      "cell_type": "code",
      "source": "col = ['SalePrice', 'LotArea']",
      "execution_count": 5,
      "outputs": []
    },
    {
      "metadata": {
        "_uuid": "7d9af86847619bd5f415d5eb2a846d35bd1895ba",
        "_cell_guid": "28c1da4c-8879-4afe-b4c5-0dedba4ec05a",
        "trusted": true
      },
      "cell_type": "code",
      "source": "data[col].head()",
      "execution_count": 6,
      "outputs": [
        {
          "output_type": "execute_result",
          "execution_count": 6,
          "data": {
            "text/plain": "   SalePrice  LotArea\n0     208500     8450\n1     181500     9600\n2     223500    11250\n3     140000     9550\n4     250000    14260",
            "text/html": "<div>\n<style scoped>\n    .dataframe tbody tr th:only-of-type {\n        vertical-align: middle;\n    }\n\n    .dataframe tbody tr th {\n        vertical-align: top;\n    }\n\n    .dataframe thead th {\n        text-align: right;\n    }\n</style>\n<table border=\"1\" class=\"dataframe\">\n  <thead>\n    <tr style=\"text-align: right;\">\n      <th></th>\n      <th>SalePrice</th>\n      <th>LotArea</th>\n    </tr>\n  </thead>\n  <tbody>\n    <tr>\n      <th>0</th>\n      <td>208500</td>\n      <td>8450</td>\n    </tr>\n    <tr>\n      <th>1</th>\n      <td>181500</td>\n      <td>9600</td>\n    </tr>\n    <tr>\n      <th>2</th>\n      <td>223500</td>\n      <td>11250</td>\n    </tr>\n    <tr>\n      <th>3</th>\n      <td>140000</td>\n      <td>9550</td>\n    </tr>\n    <tr>\n      <th>4</th>\n      <td>250000</td>\n      <td>14260</td>\n    </tr>\n  </tbody>\n</table>\n</div>"
          },
          "metadata": {}
        }
      ]
    },
    {
      "metadata": {
        "_uuid": "3614cef90051c0f1a1ee731f6cfc5ab1e0681969",
        "_cell_guid": "07435dd9-b298-4bd0-bb50-210dd9cdd028",
        "trusted": true
      },
      "cell_type": "code",
      "source": "data[col].describe()",
      "execution_count": 7,
      "outputs": [
        {
          "output_type": "execute_result",
          "execution_count": 7,
          "data": {
            "text/plain": "           SalePrice        LotArea\ncount    1460.000000    1460.000000\nmean   180921.195890   10516.828082\nstd     79442.502883    9981.264932\nmin     34900.000000    1300.000000\n25%    129975.000000    7553.500000\n50%    163000.000000    9478.500000\n75%    214000.000000   11601.500000\nmax    755000.000000  215245.000000",
            "text/html": "<div>\n<style scoped>\n    .dataframe tbody tr th:only-of-type {\n        vertical-align: middle;\n    }\n\n    .dataframe tbody tr th {\n        vertical-align: top;\n    }\n\n    .dataframe thead th {\n        text-align: right;\n    }\n</style>\n<table border=\"1\" class=\"dataframe\">\n  <thead>\n    <tr style=\"text-align: right;\">\n      <th></th>\n      <th>SalePrice</th>\n      <th>LotArea</th>\n    </tr>\n  </thead>\n  <tbody>\n    <tr>\n      <th>count</th>\n      <td>1460.000000</td>\n      <td>1460.000000</td>\n    </tr>\n    <tr>\n      <th>mean</th>\n      <td>180921.195890</td>\n      <td>10516.828082</td>\n    </tr>\n    <tr>\n      <th>std</th>\n      <td>79442.502883</td>\n      <td>9981.264932</td>\n    </tr>\n    <tr>\n      <th>min</th>\n      <td>34900.000000</td>\n      <td>1300.000000</td>\n    </tr>\n    <tr>\n      <th>25%</th>\n      <td>129975.000000</td>\n      <td>7553.500000</td>\n    </tr>\n    <tr>\n      <th>50%</th>\n      <td>163000.000000</td>\n      <td>9478.500000</td>\n    </tr>\n    <tr>\n      <th>75%</th>\n      <td>214000.000000</td>\n      <td>11601.500000</td>\n    </tr>\n    <tr>\n      <th>max</th>\n      <td>755000.000000</td>\n      <td>215245.000000</td>\n    </tr>\n  </tbody>\n</table>\n</div>"
          },
          "metadata": {}
        }
      ]
    },
    {
      "metadata": {
        "_uuid": "9ec8226c52f16a3645b75be74c7b64236ac99862",
        "collapsed": true,
        "_cell_guid": "d2457ef5-11ac-4fd7-86bd-dd655a08d706",
        "trusted": true
      },
      "cell_type": "code",
      "source": "Y = data.SalePrice",
      "execution_count": 8,
      "outputs": []
    },
    {
      "metadata": {
        "_uuid": "1eef31dd20f7ea50e0db4521d340278b79135643",
        "collapsed": true,
        "_cell_guid": "b2bedf7e-a719-4b89-9058-e52319b6a7c2",
        "trusted": true
      },
      "cell_type": "code",
      "source": "#features = ['LotArea', 'YearBuilt', '1stFlrSF', '2ndFlrSF', 'FullBath', 'BedroomAbvGr' , 'TotRmsAbvGrd' ]\nfeatures = ['LotArea', 'OverallQual', 'YearBuilt', 'TotRmsAbvGrd']",
      "execution_count": 9,
      "outputs": []
    },
    {
      "metadata": {
        "_uuid": "adf79459134effa8188a64b6c30b9ed90a040d38",
        "_cell_guid": "62149cac-fc58-4ee1-9565-ed5385fd4c57",
        "trusted": true
      },
      "cell_type": "code",
      "source": "X= data[features]\nX.head()",
      "execution_count": 10,
      "outputs": [
        {
          "output_type": "execute_result",
          "execution_count": 10,
          "data": {
            "text/plain": "   LotArea  OverallQual  YearBuilt  TotRmsAbvGrd\n0     8450            7       2003             8\n1     9600            6       1976             6\n2    11250            7       2001             6\n3     9550            7       1915             7\n4    14260            8       2000             9",
            "text/html": "<div>\n<style scoped>\n    .dataframe tbody tr th:only-of-type {\n        vertical-align: middle;\n    }\n\n    .dataframe tbody tr th {\n        vertical-align: top;\n    }\n\n    .dataframe thead th {\n        text-align: right;\n    }\n</style>\n<table border=\"1\" class=\"dataframe\">\n  <thead>\n    <tr style=\"text-align: right;\">\n      <th></th>\n      <th>LotArea</th>\n      <th>OverallQual</th>\n      <th>YearBuilt</th>\n      <th>TotRmsAbvGrd</th>\n    </tr>\n  </thead>\n  <tbody>\n    <tr>\n      <th>0</th>\n      <td>8450</td>\n      <td>7</td>\n      <td>2003</td>\n      <td>8</td>\n    </tr>\n    <tr>\n      <th>1</th>\n      <td>9600</td>\n      <td>6</td>\n      <td>1976</td>\n      <td>6</td>\n    </tr>\n    <tr>\n      <th>2</th>\n      <td>11250</td>\n      <td>7</td>\n      <td>2001</td>\n      <td>6</td>\n    </tr>\n    <tr>\n      <th>3</th>\n      <td>9550</td>\n      <td>7</td>\n      <td>1915</td>\n      <td>7</td>\n    </tr>\n    <tr>\n      <th>4</th>\n      <td>14260</td>\n      <td>8</td>\n      <td>2000</td>\n      <td>9</td>\n    </tr>\n  </tbody>\n</table>\n</div>"
          },
          "metadata": {}
        }
      ]
    },
    {
      "metadata": {
        "_uuid": "2e87866397a958cc54adc4ea7adc89961f8ebd12",
        "_cell_guid": "9632f523-61f7-41cb-a98f-f690a668ee3c",
        "trusted": true
      },
      "cell_type": "code",
      "source": "from sklearn.tree import DecisionTreeRegressor\n\n#define model\nmodel = DecisionTreeRegressor()\n\n#fit model\nmodel.fit(X,Y)",
      "execution_count": 11,
      "outputs": [
        {
          "output_type": "execute_result",
          "execution_count": 11,
          "data": {
            "text/plain": "DecisionTreeRegressor(criterion='mse', max_depth=None, max_features=None,\n           max_leaf_nodes=None, min_impurity_decrease=0.0,\n           min_impurity_split=None, min_samples_leaf=1,\n           min_samples_split=2, min_weight_fraction_leaf=0.0,\n           presort=False, random_state=None, splitter='best')"
          },
          "metadata": {}
        }
      ]
    },
    {
      "metadata": {
        "_uuid": "49e72588a11521f3a3df128acd1fdf5adf68018f",
        "_cell_guid": "797d50bb-466c-4792-808f-8d7ed0576888",
        "trusted": true
      },
      "cell_type": "code",
      "source": "print(\"Making predictions for the following 5 houses:\")\nprint(X.head())\nprint(\"The predictions are\")\nprint(model.predict(X.head()))",
      "execution_count": 12,
      "outputs": [
        {
          "output_type": "stream",
          "text": "Making predictions for the following 5 houses:\n   LotArea  OverallQual  YearBuilt  TotRmsAbvGrd\n0     8450            7       2003             8\n1     9600            6       1976             6\n2    11250            7       2001             6\n3     9550            7       1915             7\n4    14260            8       2000             9\nThe predictions are\n[208500. 181500. 223500. 140000. 250000.]\n",
          "name": "stdout"
        }
      ]
    },
    {
      "metadata": {
        "_uuid": "42a02cb44c183390168ad233a933288dccb9eff9",
        "_cell_guid": "15a78c67-9d0c-4902-9466-1d409954ebfd",
        "trusted": true
      },
      "cell_type": "code",
      "source": "Y.head()",
      "execution_count": 13,
      "outputs": [
        {
          "output_type": "execute_result",
          "execution_count": 13,
          "data": {
            "text/plain": "0    208500\n1    181500\n2    223500\n3    140000\n4    250000\nName: SalePrice, dtype: int64"
          },
          "metadata": {}
        }
      ]
    },
    {
      "metadata": {
        "_uuid": "21d0c51d0344f7df5aa7deeeccbb9c3e64158703",
        "_cell_guid": "e84f317b-c3b1-4bed-be54-11c4e22b5e40",
        "trusted": true
      },
      "cell_type": "code",
      "source": "from sklearn.metrics import mean_absolute_error\n\npredicted_prices = model.predict(X)\nmean_absolute_error(Y, predicted_prices)",
      "execution_count": 14,
      "outputs": [
        {
          "output_type": "execute_result",
          "execution_count": 14,
          "data": {
            "text/plain": "221.18926940639273"
          },
          "metadata": {}
        }
      ]
    },
    {
      "metadata": {
        "_uuid": "8014cf1c5daab9d391cbae2bdf32db261f7bd5ab",
        "_cell_guid": "9abc0985-dffe-49f4-be42-b85fc22c381f",
        "trusted": true
      },
      "cell_type": "code",
      "source": "from sklearn.model_selection import train_test_split\n#train and validation set\ntrain_X, val_X, train_Y, val_Y = train_test_split(X,Y , random_state = 0 )\n\n#define model\nmodel = DecisionTreeRegressor()\n\n#fit model\nmodel.fit(train_X,train_Y)\n\n#get predictions\npredictions = model.predict(val_X)\nprint(mean_absolute_error(val_Y, predictions))",
      "execution_count": 15,
      "outputs": [
        {
          "output_type": "stream",
          "text": "32770.78356164384\n",
          "name": "stdout"
        }
      ]
    },
    {
      "metadata": {
        "_uuid": "c5bcd481420afb5bee4ca4c22081202f41f324ec",
        "collapsed": true,
        "_cell_guid": "18b2ea99-5279-47b7-aea9-366782543e48",
        "trusted": true
      },
      "cell_type": "code",
      "source": "from sklearn.metrics import mean_absolute_error\nfrom sklearn.tree import DecisionTreeRegressor\n\ndef get_mae(max_leaf_nodes, predictors_train, predictors_val, targ_train, targ_val):\n    model = DecisionTreeRegressor(max_leaf_nodes=max_leaf_nodes, random_state=0)\n    model.fit(predictors_train, targ_train)\n    preds_val = model.predict(predictors_val)\n    mae = mean_absolute_error(targ_val, preds_val)\n    return(mae)",
      "execution_count": 16,
      "outputs": []
    },
    {
      "metadata": {
        "_uuid": "07f39325d9a5f990f55ff1579170eab8c2d780c4",
        "_cell_guid": "b21cfb51-f705-42be-ac6f-435acc33d88b",
        "trusted": true
      },
      "cell_type": "code",
      "source": "for max_leaf_nodes in [5, 50, 500, 5000]:\n    my_mae = get_mae(max_leaf_nodes, train_X, val_X, train_Y, val_Y)\n    print(\"Max leaf nodes: %d  \\t\\t Mean Absolute Error:  %d\" %(max_leaf_nodes, my_mae))",
      "execution_count": 17,
      "outputs": [
        {
          "output_type": "stream",
          "text": "Max leaf nodes: 5  \t\t Mean Absolute Error:  32224\nMax leaf nodes: 50  \t\t Mean Absolute Error:  28416\nMax leaf nodes: 500  \t\t Mean Absolute Error:  32518\nMax leaf nodes: 5000  \t\t Mean Absolute Error:  32992\n",
          "name": "stdout"
        }
      ]
    },
    {
      "metadata": {
        "_uuid": "2c8a54ddf4bce3fbf9565c60896b8a9043b29586",
        "_cell_guid": "a1783dcb-8fdc-4421-8358-b19e674b22a8",
        "trusted": true
      },
      "cell_type": "code",
      "source": "from sklearn.ensemble import RandomForestRegressor\nfrom sklearn.metrics import mean_absolute_error\n\n#define model\nforest_model = RandomForestRegressor()\n\n#fit model\nforest_model.fit(train_X, train_Y)\n\n#get predictions\nforest_prediction = forest_model.predict(val_X)\nprint(mean_absolute_error(val_Y, forest_prediction))",
      "execution_count": 18,
      "outputs": [
        {
          "output_type": "stream",
          "text": "25787.915041095897\n",
          "name": "stdout"
        }
      ]
    },
    {
      "metadata": {
        "_uuid": "e3dc5b4f14b155b4efc0e230e7572725b33d2ae2",
        "_cell_guid": "471f796b-0f95-441f-81b6-959320d21827",
        "trusted": true
      },
      "cell_type": "code",
      "source": "test = pd.read_csv('../input/test.csv')\ntest_X = test[features]\npredicted_prices = forest_model.predict(test_X)\nprint(predicted_prices)",
      "execution_count": 19,
      "outputs": [
        {
          "output_type": "stream",
          "text": "[137450.  203700.  160150.  ... 162253.2 172000.  259350. ]\n",
          "name": "stdout"
        }
      ]
    },
    {
      "metadata": {
        "_uuid": "550ade3446ee956e819996b429789da814d024a2",
        "collapsed": true,
        "_cell_guid": "077ca70d-97eb-4ead-9a70-3925511d535a",
        "trusted": true
      },
      "cell_type": "code",
      "source": "my_submission = pd.DataFrame({'Id': test.Id, 'SalePrice': predicted_prices})\n# you could use any filename. We choose submission here\nmy_submission.to_csv('submission.csv', index=False)",
      "execution_count": 20,
      "outputs": []
    }
  ],
  "metadata": {
    "language_info": {
      "name": "python",
      "version": "3.6.4",
      "mimetype": "text/x-python",
      "codemirror_mode": {
        "name": "ipython",
        "version": 3
      },
      "pygments_lexer": "ipython3",
      "nbconvert_exporter": "python",
      "file_extension": ".py"
    },
    "kernelspec": {
      "display_name": "Python 3",
      "language": "python",
      "name": "python3"
    }
  },
  "nbformat": 4,
  "nbformat_minor": 1
}